{
 "cells": [
  {
   "cell_type": "code",
   "execution_count": 17,
   "metadata": {},
   "outputs": [],
   "source": [
    "import pandas as pd\n",
    "import os\n",
    "from pandas import ExcelWriter\n",
    "from pandas import ExcelFile\n",
    "import json\n",
    "\n",
    "filename=\"instance-name\"\n",
    "\n",
    "excel_data = pd.read_excel(f\"./{filename}.xlsx\", sheet_name=None)"
   ]
  },
  {
   "cell_type": "code",
   "execution_count": 18,
   "metadata": {},
   "outputs": [],
   "source": [
    "inputs = excel_data[\"Inputs\"].drop(labels=[\"Description\", \"or MQTT params\"], axis=1)\n",
    "outputs = excel_data[\"Outputs\"].drop(labels=[\"Description\", \"MQTT params\"], axis=1)\n",
    "\n",
    "start_config = excel_data[\"Start_config\"].drop(labels=[\"Description\"], axis=1)\n",
    "start_config_dict = start_config[\"Value\"].to_dict()"
   ]
  },
  {
   "cell_type": "code",
   "execution_count": 19,
   "metadata": {},
   "outputs": [
    {
     "data": {
      "text/plain": [
       "{'control_frequency': 30,\n",
       " 'horizon_in_steps': 48,\n",
       " 'dT_in_seconds': 3600,\n",
       " 'model_name': 'testModel1',\n",
       " 'repetition': 1,\n",
       " 'solver': 'ipopt'}"
      ]
     },
     "execution_count": 19,
     "metadata": {},
     "output_type": "execute_result"
    }
   ],
   "source": [
    "start_config_dict"
   ]
  },
  {
   "cell_type": "code",
   "execution_count": null,
   "metadata": {},
   "outputs": [],
   "source": []
  },
  {
   "cell_type": "code",
   "execution_count": 20,
   "metadata": {},
   "outputs": [],
   "source": [
    "import xlsxwriter as xl\n",
    "\n",
    "sheets = ['inputs', 'outputs', 'start']\n",
    "\n",
    "\n",
    "\n",
    "col_headers = {'inputs': ['Input_name', 'value', 'or filename', '', 'or MQTT params', 'Description'], 'outputs': ['Output_name', '', 'MQTT params', 'Description'], 'start': ['configs', 'Value', 'Description']} \n",
    "\n",
    "default_cell_values = {'inputs': [['','','url','',''],['','','topic','',''],['','','qos','','']], 'outputs': [['url','',''],['topic','',''],['qos','','']], 'start': [['','']] }\n",
    "\n",
    "\n",
    "\n",
    "def generate_xlsx_instance_config(data, filepath):\n",
    "        \"\"\"Generate excel sheet for instance configuration\n",
    "        \n",
    "        Arguments:\n",
    "            data {dict} -- Input data with list of config to be filled\n",
    "            filepath {str} -- File path of the excel file to be created\n",
    "        \"\"\"\n",
    "        if os.path.isfile(filepath):\n",
    "            print(\"File already exists. Cannot overwrite file\")\n",
    "        else:\n",
    "\n",
    "            with xl.Workbook(filepath) as workbook:\n",
    "\n",
    "                row_header_format = workbook.add_format({'align': 'center', 'bold': True, 'valign': 'vcenter'})\n",
    "                col_header_format = workbook.add_format({'align': 'center', 'bold': True, 'valign': 'vcenter'})    \n",
    "                cell_format = workbook.add_format()\n",
    "\n",
    "                # Formatting information\n",
    "                BORDER_SIZE = 2\n",
    "                COL_HEADER_WIDTH = 30\n",
    "                NORMAL_COL_WIDTH = 20\n",
    "                SHORT_COL_WIDTH = 5\n",
    "\n",
    "                row_header_format.set_border(BORDER_SIZE)\n",
    "                col_header_format.set_border(BORDER_SIZE)\n",
    "                cell_format.set_border(BORDER_SIZE)\n",
    "\n",
    "                # Generate worksheets and format\n",
    "                for worksheet_name in sheets:\n",
    "                    sheet = workbook.add_worksheet(worksheet_name)\n",
    "\n",
    "                    # Create column headers\n",
    "                    col_header = col_headers[worksheet_name]\n",
    "                    for col_num, col_value in enumerate(col_header):\n",
    "                        sheet.write(0, col_num, col_value, col_header_format)\n",
    "\n",
    "                        # Column formatting\n",
    "                        sheet.set_column(col_num, col_num, NORMAL_COL_WIDTH)\n",
    "\n",
    "                        # Widen first column\n",
    "                        if col_num == 0:\n",
    "                            sheet.set_column(col_num, col_num, COL_HEADER_WIDTH)\n",
    "                        # Shorten empty column\n",
    "                        if col_value == \"\":\n",
    "                            sheet.set_column(col_num, col_num, SHORT_COL_WIDTH)\n",
    "\n",
    "\n",
    "                    # Create row headers and format rows based on default inputs\n",
    "                    row_header = data[worksheet_name]\n",
    "                    cell_values = default_cell_values[worksheet_name]\n",
    "                    for row_num, row_value in enumerate(row_header):\n",
    "\n",
    "                        # Different formatting for start config sheet\n",
    "                        if worksheet_name == \"start\":\n",
    "                            sheet.write(row_num + 1, 0, row_value, cell_format)\n",
    "\n",
    "                            for cell_row_num, cell_row in enumerate(cell_values):\n",
    "                                for cell_col_num, cell_value in enumerate(cell_row):\n",
    "                                    sheet.write(cell_row_num + row_num + 1, cell_col_num + 1, cell_value, cell_format)\n",
    "                            # skip the rest of the code for start config\n",
    "                            continue\n",
    "\n",
    "                        # Merge every three rows for \n",
    "                        first_row = 1 + (row_num * 3)\n",
    "                        last_row = first_row + 2\n",
    "                        sheet.merge_range(first_row, 0, last_row, 0, row_value, row_header_format)\n",
    "\n",
    "                        for cell_row_num, cell_row in enumerate(cell_values):\n",
    "                            for cell_col_num, cell_value in enumerate(cell_row):\n",
    "                                # Get col name and set formatting per row or per merged range\n",
    "                                col_header_name = col_header[cell_col_num+1]\n",
    "                                if \"MQTT\" in col_header_name or col_header_name == \"\":\n",
    "                                    sheet.write(cell_row_num + first_row, cell_col_num + 1, cell_value, cell_format)\n",
    "                                else:\n",
    "                                    sheet.merge_range(first_row, cell_col_num + 1, last_row, cell_col_num + 1, \"\", cell_format)"
   ]
  },
  {
   "cell_type": "code",
   "execution_count": 22,
   "metadata": {},
   "outputs": [
    {
     "name": "stdout",
     "output_type": "stream",
     "text": [
      "File already exists. Cannot overwrite file\n"
     ]
    }
   ],
   "source": [
    "data = {'inputs': [ 'ESS_Capacity', 'ESS_Max_Charge_Power', 'ESS_Max_Discharge_Power', 'P_Grid_Max_Export_Power', 'P_PV', 'PV_Inv_Max_Power', 'P_Load'], 'outputs': ['P_Grid_Output', 'P_PV_Output', 'P_ESS_Output', 'SoC_ESS'], 'start': ['control_frequency', 'horizon_in_steps', 'dT_in_seconds', 'model_name', 'repetition', 'solver']} \n",
    "filepath=\"../notebooks/new.xlsx\"\n",
    "\n",
    "generate_xlsx_instance_config(data, filepath)"
   ]
  },
  {
   "cell_type": "code",
   "execution_count": null,
   "metadata": {},
   "outputs": [],
   "source": []
  }
 ],
 "metadata": {
  "kernelspec": {
   "display_name": "Python 3",
   "language": "python",
   "name": "python3"
  },
  "language_info": {
   "codemirror_mode": {
    "name": "ipython",
    "version": 3
   },
   "file_extension": ".py",
   "mimetype": "text/x-python",
   "name": "python",
   "nbconvert_exporter": "python",
   "pygments_lexer": "ipython3",
   "version": "3.7.1"
  }
 },
 "nbformat": 4,
 "nbformat_minor": 2
}
