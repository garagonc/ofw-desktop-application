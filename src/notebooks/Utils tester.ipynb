{
 "cells": [
  {
   "cell_type": "code",
   "execution_count": 1,
   "metadata": {},
   "outputs": [],
   "source": [
    "import sys\n",
    "\n",
    "sys.path.append(\"..\")"
   ]
  },
  {
   "cell_type": "code",
   "execution_count": 2,
   "metadata": {},
   "outputs": [],
   "source": [
    "from utils import Utils"
   ]
  },
  {
   "cell_type": "code",
   "execution_count": 3,
   "metadata": {},
   "outputs": [],
   "source": [
    "utils = Utils()"
   ]
  },
  {
   "cell_type": "code",
   "execution_count": 4,
   "metadata": {},
   "outputs": [
    {
     "name": "stderr",
     "output_type": "stream",
     "text": [
      "2019-02-26 13:16:39,427 DEBUG ../utils.py: path xlsx /home/pandian/s4g/ofw_commands/src/notebooks/P_PV_House_1.xlsx\n"
     ]
    },
    {
     "data": {
      "text/plain": [
       "{'inputs': {'dataset': {'generic': {'ESS_Min_SoC': 1.0,\n",
       "    'ESS_Max_SoC': 2.0,\n",
       "    'SoC_Value': 3.0,\n",
       "    'ESS_Capacity': 4.0,\n",
       "    'ESS_Max_Charge_Power': 5.0,\n",
       "    'ESS_Max_Discharge_Power': 6.0,\n",
       "    'P_Grid_Max_Export_Power': 7.0,\n",
       "    'P_PV': [1,\n",
       "     2,\n",
       "     3,\n",
       "     4,\n",
       "     5,\n",
       "     6,\n",
       "     7,\n",
       "     8,\n",
       "     9,\n",
       "     10,\n",
       "     11,\n",
       "     12,\n",
       "     13,\n",
       "     14,\n",
       "     15,\n",
       "     16,\n",
       "     17,\n",
       "     18,\n",
       "     19,\n",
       "     20,\n",
       "     21,\n",
       "     22,\n",
       "     23,\n",
       "     24],\n",
       "    'PV_Inv_Max_Power': 8.0,\n",
       "    'P_Load': 9.0}},\n",
       "  'mqtt': {'generic': {}}},\n",
       " 'outputs': {'generic': {'P_Grid_Output': {'mqtt': {'qos': 1,\n",
       "     'host': 'gdhg',\n",
       "     'topic': 'hdjhdj'}}}},\n",
       " 'start': {'control_frequency': 60,\n",
       "  'horizon_in_steps': 24,\n",
       "  'dT_in_seconds': 3600,\n",
       "  'model_name': 'testModel1',\n",
       "  'repetition': 2,\n",
       "  'solver': 'ipopt'}}"
      ]
     },
     "execution_count": 4,
     "metadata": {},
     "output_type": "execute_result"
    }
   ],
   "source": [
    "utils.read_data_from_xlsx_instance_config(\"./gustavo.xlsx\")"
   ]
  },
  {
   "cell_type": "code",
   "execution_count": null,
   "metadata": {},
   "outputs": [],
   "source": []
  }
 ],
 "metadata": {
  "kernelspec": {
   "display_name": "Python 3",
   "language": "python",
   "name": "python3"
  },
  "language_info": {
   "codemirror_mode": {
    "name": "ipython",
    "version": 3
   },
   "file_extension": ".py",
   "mimetype": "text/x-python",
   "name": "python",
   "nbconvert_exporter": "python",
   "pygments_lexer": "ipython3",
   "version": "3.7.1"
  }
 },
 "nbformat": 4,
 "nbformat_minor": 2
}
