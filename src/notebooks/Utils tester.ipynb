{
 "cells": [
  {
   "cell_type": "code",
   "execution_count": 1,
   "metadata": {},
   "outputs": [],
   "source": [
    "import sys\n",
    "\n",
    "sys.path.append(\"..\")"
   ]
  },
  {
   "cell_type": "code",
   "execution_count": 2,
   "metadata": {},
   "outputs": [],
   "source": [
    "from utils import Utils"
   ]
  },
  {
   "cell_type": "code",
   "execution_count": 3,
   "metadata": {},
   "outputs": [],
   "source": [
    "utils = Utils()"
   ]
  },
  {
   "cell_type": "code",
   "execution_count": 8,
   "metadata": {},
   "outputs": [],
   "source": [
    "data = {'inputs': ['ESS_Min_SoC', 'ESS_Max_SoC', 'SoC_Value', 'ESS_Capacity', 'ESS_Max_Charge_Power', 'ESS_Max_Discharge_Power', 'P_Grid_Max_Export_Power', 'P_PV', 'PV_Inv_Max_Power', 'P_Load'], 'outputs': ['P_Grid_Output', 'P_PV_Output', 'P_ESS_Output', 'SoC_ESS'], 'start': ['control_frequency', 'horizon_in_steps', 'dT_in_seconds', 'model_name', 'repetition', 'solver']}\n",
    "filepath=\"./instance-name.xlsx\"\n",
    "\n",
    "utils.generate_xlsx_instance_config(data, filepath)"
   ]
  },
  {
   "cell_type": "code",
   "execution_count": 6,
   "metadata": {},
   "outputs": [
    {
     "name": "stderr",
     "output_type": "stream",
     "text": [
      "2019-03-22 11:14:36,487 DEBUG ../utils.py: path xlsx /home/pandian/s4g/ofw_commands/src/notebooks/P_PV_House_1.xlsx\n"
     ]
    },
    {
     "name": "stdout",
     "output_type": "stream",
     "text": [
      "{\n",
      "    \"inputs\": {\n",
      "        \"dataset\": {\n",
      "            \"generic\": {\n",
      "                \"ESS_Min_SoC\": 1.0,\n",
      "                \"ESS_Max_SoC\": 2.0,\n",
      "                \"SoC_Value\": 3.0,\n",
      "                \"ESS_Capacity\": 4.0,\n",
      "                \"ESS_Max_Charge_Power\": 5.0,\n",
      "                \"ESS_Max_Discharge_Power\": 6.0,\n",
      "                \"P_Grid_Max_Export_Power\": 7.0,\n",
      "                \"P_PV\": [\n",
      "                    1,\n",
      "                    2,\n",
      "                    3,\n",
      "                    4,\n",
      "                    5,\n",
      "                    6,\n",
      "                    7,\n",
      "                    8,\n",
      "                    9,\n",
      "                    10,\n",
      "                    11,\n",
      "                    12,\n",
      "                    13,\n",
      "                    14,\n",
      "                    15,\n",
      "                    16,\n",
      "                    17,\n",
      "                    18,\n",
      "                    19,\n",
      "                    20,\n",
      "                    21,\n",
      "                    22,\n",
      "                    23,\n",
      "                    24\n",
      "                ],\n",
      "                \"PV_Inv_Max_Power\": 8.0,\n",
      "                \"P_Load\": 9.0\n",
      "            }\n",
      "        },\n",
      "        \"mqtt\": {\n",
      "            \"generic\": {}\n",
      "        }\n",
      "    },\n",
      "    \"outputs\": {\n",
      "        \"generic\": {\n",
      "            \"P_Grid_Output\": {\n",
      "                \"mqtt\": {\n",
      "                    \"qos\": 1,\n",
      "                    \"host\": \"asdf\",\n",
      "                    \"topic\": \"asdfef\"\n",
      "                },\n",
      "                \"unit\": \"W\",\n",
      "                \"horizon_values\": false\n",
      "            }\n",
      "        }\n",
      "    },\n",
      "    \"start\": {\n",
      "        \"control_frequency\": 60,\n",
      "        \"horizon_in_steps\": 24,\n",
      "        \"dT_in_seconds\": 3600,\n",
      "        \"model_name\": \"testModel1\",\n",
      "        \"repetition\": 2,\n",
      "        \"solver\": \"ipopt\"\n",
      "    }\n",
      "}\n"
     ]
    }
   ],
   "source": [
    "data = utils.read_data_from_xlsx_instance_config(\"./gustavo.xlsx\")\n",
    "print(json.dumps(data, indent=4))"
   ]
  },
  {
   "cell_type": "code",
   "execution_count": null,
   "metadata": {},
   "outputs": [],
   "source": []
  }
 ],
 "metadata": {
  "kernelspec": {
   "display_name": "Python 3",
   "language": "python",
   "name": "python3"
  },
  "language_info": {
   "codemirror_mode": {
    "name": "ipython",
    "version": 3
   },
   "file_extension": ".py",
   "mimetype": "text/x-python",
   "name": "python",
   "nbconvert_exporter": "python",
   "pygments_lexer": "ipython3",
   "version": "3.7.1"
  },
  "varInspector": {
   "cols": {
    "lenName": 16,
    "lenType": 16,
    "lenVar": 40
   },
   "kernels_config": {
    "python": {
     "delete_cmd_postfix": "",
     "delete_cmd_prefix": "del ",
     "library": "var_list.py",
     "varRefreshCmd": "print(var_dic_list())"
    },
    "r": {
     "delete_cmd_postfix": ") ",
     "delete_cmd_prefix": "rm(",
     "library": "var_list.r",
     "varRefreshCmd": "cat(var_dic_list()) "
    }
   },
   "types_to_exclude": [
    "module",
    "function",
    "builtin_function_or_method",
    "instance",
    "_Feature"
   ],
   "window_display": false
  }
 },
 "nbformat": 4,
 "nbformat_minor": 2
}
